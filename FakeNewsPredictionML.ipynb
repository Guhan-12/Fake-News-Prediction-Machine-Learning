{
  "nbformat": 4,
  "nbformat_minor": 0,
  "metadata": {
    "colab": {
      "provenance": [],
      "authorship_tag": "ABX9TyPNYW/rUX41GoB1oPLb5EyW",
      "include_colab_link": true
    },
    "kernelspec": {
      "name": "python3",
      "display_name": "Python 3"
    },
    "language_info": {
      "name": "python"
    }
  },
  "cells": [
    {
      "cell_type": "markdown",
      "metadata": {
        "id": "view-in-github",
        "colab_type": "text"
      },
      "source": [
        "<a href=\"https://colab.research.google.com/github/Guhan-12/FakeNewsPredictionProject/blob/main/FakeNewsPredictionML.ipynb\" target=\"_parent\"><img src=\"https://colab.research.google.com/assets/colab-badge.svg\" alt=\"Open In Colab\"/></a>"
      ]
    },
    {
      "cell_type": "markdown",
      "source": [
        "About the Dataset:\n",
        "\n",
        "id: unique id for a news article\n",
        "\n",
        "title: the title of a news article\n",
        "\n",
        "author: author of the news article\n",
        "\n",
        "text: the text of the article; could be incomplete\n",
        "\n",
        "label: a label that marks whether the news article is real or fake:\n",
        "\n",
        "        1 - Fake news\n",
        "        0 - Real news\n"
      ],
      "metadata": {
        "id": "9oPH9TIwoZQT"
      }
    },
    {
      "cell_type": "markdown",
      "source": [
        "Importing Dependencies"
      ],
      "metadata": {
        "id": "Bk8Z7SLWEFJm"
      }
    },
    {
      "cell_type": "code",
      "source": [
        "import numpy as np\n",
        "import pandas as pd\n",
        "import re  # regular expresion - to search for a text in a doc\n",
        "from nltk.corpus import stopwords  # nltk - natural language took kit\n",
        "from nltk.stem.porter import PorterStemmer # Stemming - removes prefix and suffix from a word\n",
        "from sklearn.feature_extraction.text import TfidfVectorizer # convert data into feature vectors\n",
        "from sklearn.model_selection import train_test_split  # split dataset to train data and test data\n",
        "from sklearn.linear_model import LogisticRegression # to train the model\n",
        "from sklearn.metrics import accuracy_score # to evaluate the accuracy of the train data and test data\n",
        "from sklearn.preprocessing import LabelEncoder"
      ],
      "metadata": {
        "id": "WGaDXzN9ELdS"
      },
      "execution_count": null,
      "outputs": []
    },
    {
      "cell_type": "code",
      "source": [
        "import nltk\n",
        "nltk.download(\"stopwords\")"
      ],
      "metadata": {
        "colab": {
          "base_uri": "https://localhost:8080/"
        },
        "id": "hDqMbVRxFMk7",
        "outputId": "555e3f86-e4cb-46e8-941b-87dc3c22fc11"
      },
      "execution_count": null,
      "outputs": [
        {
          "output_type": "stream",
          "name": "stderr",
          "text": [
            "[nltk_data] Downloading package stopwords to /root/nltk_data...\n",
            "[nltk_data]   Package stopwords is already up-to-date!\n"
          ]
        },
        {
          "output_type": "execute_result",
          "data": {
            "text/plain": [
              "True"
            ]
          },
          "metadata": {},
          "execution_count": 89
        }
      ]
    },
    {
      "cell_type": "code",
      "source": [
        "# printing the stopwords in the english\n",
        "print(stopwords.words('english'))"
      ],
      "metadata": {
        "colab": {
          "base_uri": "https://localhost:8080/"
        },
        "id": "B-gJi2J6F88a",
        "outputId": "b5689328-10eb-4b2c-83c9-6be41d30d8a4"
      },
      "execution_count": null,
      "outputs": [
        {
          "output_type": "stream",
          "name": "stdout",
          "text": [
            "['i', 'me', 'my', 'myself', 'we', 'our', 'ours', 'ourselves', 'you', \"you're\", \"you've\", \"you'll\", \"you'd\", 'your', 'yours', 'yourself', 'yourselves', 'he', 'him', 'his', 'himself', 'she', \"she's\", 'her', 'hers', 'herself', 'it', \"it's\", 'its', 'itself', 'they', 'them', 'their', 'theirs', 'themselves', 'what', 'which', 'who', 'whom', 'this', 'that', \"that'll\", 'these', 'those', 'am', 'is', 'are', 'was', 'were', 'be', 'been', 'being', 'have', 'has', 'had', 'having', 'do', 'does', 'did', 'doing', 'a', 'an', 'the', 'and', 'but', 'if', 'or', 'because', 'as', 'until', 'while', 'of', 'at', 'by', 'for', 'with', 'about', 'against', 'between', 'into', 'through', 'during', 'before', 'after', 'above', 'below', 'to', 'from', 'up', 'down', 'in', 'out', 'on', 'off', 'over', 'under', 'again', 'further', 'then', 'once', 'here', 'there', 'when', 'where', 'why', 'how', 'all', 'any', 'both', 'each', 'few', 'more', 'most', 'other', 'some', 'such', 'no', 'nor', 'not', 'only', 'own', 'same', 'so', 'than', 'too', 'very', 's', 't', 'can', 'will', 'just', 'don', \"don't\", 'should', \"should've\", 'now', 'd', 'll', 'm', 'o', 're', 've', 'y', 'ain', 'aren', \"aren't\", 'couldn', \"couldn't\", 'didn', \"didn't\", 'doesn', \"doesn't\", 'hadn', \"hadn't\", 'hasn', \"hasn't\", 'haven', \"haven't\", 'isn', \"isn't\", 'ma', 'mightn', \"mightn't\", 'mustn', \"mustn't\", 'needn', \"needn't\", 'shan', \"shan't\", 'shouldn', \"shouldn't\", 'wasn', \"wasn't\", 'weren', \"weren't\", 'won', \"won't\", 'wouldn', \"wouldn't\"]\n"
          ]
        }
      ]
    },
    {
      "cell_type": "markdown",
      "source": [
        "Data Pre-processing"
      ],
      "metadata": {
        "id": "9GxlmJfTmwP8"
      }
    },
    {
      "cell_type": "code",
      "source": [
        "# loading the dataset into the dataframe\n",
        "def bad_line(x):\n",
        "    return None\n",
        "\n",
        "news_dataset = pd.read_csv('/content/train.csv', encoding='utf-8', on_bad_lines=bad_line, engine='python')\n",
        "#news_dataset = pd.read_csv('/content/train.csv',encoding = 'utf-8')"
      ],
      "metadata": {
        "id": "3N2lTZjkM2Vl"
      },
      "execution_count": null,
      "outputs": []
    },
    {
      "cell_type": "code",
      "source": [
        "# to display the number of data in the dataset\n",
        "news_dataset.shape\n"
      ],
      "metadata": {
        "colab": {
          "base_uri": "https://localhost:8080/"
        },
        "id": "c2ePrc0JM942",
        "outputId": "07b9085d-aaa6-412a-aecb-db59975e880c"
      },
      "execution_count": null,
      "outputs": [
        {
          "output_type": "execute_result",
          "data": {
            "text/plain": [
              "(6875, 5)"
            ]
          },
          "metadata": {},
          "execution_count": 115
        }
      ]
    },
    {
      "cell_type": "code",
      "source": [
        "# to display the first 5 data of the dataset\n",
        "news_dataset.head()"
      ],
      "metadata": {
        "colab": {
          "base_uri": "https://localhost:8080/",
          "height": 206
        },
        "id": "_qHd5Pc0NIQD",
        "outputId": "aa8af65a-7adb-469a-cd7c-19954785c704"
      },
      "execution_count": null,
      "outputs": [
        {
          "output_type": "execute_result",
          "data": {
            "text/plain": [
              "   id                                              title              author  \\\n",
              "0   0  House Dem Aide: We Didn’t Even See Comey’s Let...       Darrell Lucus   \n",
              "1   1  FLYNN: Hillary Clinton, Big Woman on Campus - ...     Daniel J. Flynn   \n",
              "2   2                  Why the Truth Might Get You Fired  Consortiumnews.com   \n",
              "3   3  15 Civilians Killed In Single US Airstrike Hav...     Jessica Purkiss   \n",
              "4   4  Iranian woman jailed for fictional unpublished...      Howard Portnoy   \n",
              "\n",
              "                                                text  label  \n",
              "0  House Dem Aide: We Didn’t Even See Comey’s Let...      1  \n",
              "1  Ever get the feeling your life circles the rou...      0  \n",
              "2  Why the Truth Might Get You Fired October 29, ...      1  \n",
              "3  Videos 15 Civilians Killed In Single US Airstr...      1  \n",
              "4  Print \\nAn Iranian woman has been sentenced to...      1  "
            ],
            "text/html": [
              "\n",
              "  <div id=\"df-29c5df86-3a0b-482e-b6f0-75d35ca9ae57\" class=\"colab-df-container\">\n",
              "    <div>\n",
              "<style scoped>\n",
              "    .dataframe tbody tr th:only-of-type {\n",
              "        vertical-align: middle;\n",
              "    }\n",
              "\n",
              "    .dataframe tbody tr th {\n",
              "        vertical-align: top;\n",
              "    }\n",
              "\n",
              "    .dataframe thead th {\n",
              "        text-align: right;\n",
              "    }\n",
              "</style>\n",
              "<table border=\"1\" class=\"dataframe\">\n",
              "  <thead>\n",
              "    <tr style=\"text-align: right;\">\n",
              "      <th></th>\n",
              "      <th>id</th>\n",
              "      <th>title</th>\n",
              "      <th>author</th>\n",
              "      <th>text</th>\n",
              "      <th>label</th>\n",
              "    </tr>\n",
              "  </thead>\n",
              "  <tbody>\n",
              "    <tr>\n",
              "      <th>0</th>\n",
              "      <td>0</td>\n",
              "      <td>House Dem Aide: We Didn’t Even See Comey’s Let...</td>\n",
              "      <td>Darrell Lucus</td>\n",
              "      <td>House Dem Aide: We Didn’t Even See Comey’s Let...</td>\n",
              "      <td>1</td>\n",
              "    </tr>\n",
              "    <tr>\n",
              "      <th>1</th>\n",
              "      <td>1</td>\n",
              "      <td>FLYNN: Hillary Clinton, Big Woman on Campus - ...</td>\n",
              "      <td>Daniel J. Flynn</td>\n",
              "      <td>Ever get the feeling your life circles the rou...</td>\n",
              "      <td>0</td>\n",
              "    </tr>\n",
              "    <tr>\n",
              "      <th>2</th>\n",
              "      <td>2</td>\n",
              "      <td>Why the Truth Might Get You Fired</td>\n",
              "      <td>Consortiumnews.com</td>\n",
              "      <td>Why the Truth Might Get You Fired October 29, ...</td>\n",
              "      <td>1</td>\n",
              "    </tr>\n",
              "    <tr>\n",
              "      <th>3</th>\n",
              "      <td>3</td>\n",
              "      <td>15 Civilians Killed In Single US Airstrike Hav...</td>\n",
              "      <td>Jessica Purkiss</td>\n",
              "      <td>Videos 15 Civilians Killed In Single US Airstr...</td>\n",
              "      <td>1</td>\n",
              "    </tr>\n",
              "    <tr>\n",
              "      <th>4</th>\n",
              "      <td>4</td>\n",
              "      <td>Iranian woman jailed for fictional unpublished...</td>\n",
              "      <td>Howard Portnoy</td>\n",
              "      <td>Print \\nAn Iranian woman has been sentenced to...</td>\n",
              "      <td>1</td>\n",
              "    </tr>\n",
              "  </tbody>\n",
              "</table>\n",
              "</div>\n",
              "    <div class=\"colab-df-buttons\">\n",
              "\n",
              "  <div class=\"colab-df-container\">\n",
              "    <button class=\"colab-df-convert\" onclick=\"convertToInteractive('df-29c5df86-3a0b-482e-b6f0-75d35ca9ae57')\"\n",
              "            title=\"Convert this dataframe to an interactive table.\"\n",
              "            style=\"display:none;\">\n",
              "\n",
              "  <svg xmlns=\"http://www.w3.org/2000/svg\" height=\"24px\" viewBox=\"0 -960 960 960\">\n",
              "    <path d=\"M120-120v-720h720v720H120Zm60-500h600v-160H180v160Zm220 220h160v-160H400v160Zm0 220h160v-160H400v160ZM180-400h160v-160H180v160Zm440 0h160v-160H620v160ZM180-180h160v-160H180v160Zm440 0h160v-160H620v160Z\"/>\n",
              "  </svg>\n",
              "    </button>\n",
              "\n",
              "  <style>\n",
              "    .colab-df-container {\n",
              "      display:flex;\n",
              "      gap: 12px;\n",
              "    }\n",
              "\n",
              "    .colab-df-convert {\n",
              "      background-color: #E8F0FE;\n",
              "      border: none;\n",
              "      border-radius: 50%;\n",
              "      cursor: pointer;\n",
              "      display: none;\n",
              "      fill: #1967D2;\n",
              "      height: 32px;\n",
              "      padding: 0 0 0 0;\n",
              "      width: 32px;\n",
              "    }\n",
              "\n",
              "    .colab-df-convert:hover {\n",
              "      background-color: #E2EBFA;\n",
              "      box-shadow: 0px 1px 2px rgba(60, 64, 67, 0.3), 0px 1px 3px 1px rgba(60, 64, 67, 0.15);\n",
              "      fill: #174EA6;\n",
              "    }\n",
              "\n",
              "    .colab-df-buttons div {\n",
              "      margin-bottom: 4px;\n",
              "    }\n",
              "\n",
              "    [theme=dark] .colab-df-convert {\n",
              "      background-color: #3B4455;\n",
              "      fill: #D2E3FC;\n",
              "    }\n",
              "\n",
              "    [theme=dark] .colab-df-convert:hover {\n",
              "      background-color: #434B5C;\n",
              "      box-shadow: 0px 1px 3px 1px rgba(0, 0, 0, 0.15);\n",
              "      filter: drop-shadow(0px 1px 2px rgba(0, 0, 0, 0.3));\n",
              "      fill: #FFFFFF;\n",
              "    }\n",
              "  </style>\n",
              "\n",
              "    <script>\n",
              "      const buttonEl =\n",
              "        document.querySelector('#df-29c5df86-3a0b-482e-b6f0-75d35ca9ae57 button.colab-df-convert');\n",
              "      buttonEl.style.display =\n",
              "        google.colab.kernel.accessAllowed ? 'block' : 'none';\n",
              "\n",
              "      async function convertToInteractive(key) {\n",
              "        const element = document.querySelector('#df-29c5df86-3a0b-482e-b6f0-75d35ca9ae57');\n",
              "        const dataTable =\n",
              "          await google.colab.kernel.invokeFunction('convertToInteractive',\n",
              "                                                    [key], {});\n",
              "        if (!dataTable) return;\n",
              "\n",
              "        const docLinkHtml = 'Like what you see? Visit the ' +\n",
              "          '<a target=\"_blank\" href=https://colab.research.google.com/notebooks/data_table.ipynb>data table notebook</a>'\n",
              "          + ' to learn more about interactive tables.';\n",
              "        element.innerHTML = '';\n",
              "        dataTable['output_type'] = 'display_data';\n",
              "        await google.colab.output.renderOutput(dataTable, element);\n",
              "        const docLink = document.createElement('div');\n",
              "        docLink.innerHTML = docLinkHtml;\n",
              "        element.appendChild(docLink);\n",
              "      }\n",
              "    </script>\n",
              "  </div>\n",
              "\n",
              "\n",
              "<div id=\"df-f0633b13-e1c0-47a1-a86d-ee0225ca5f44\">\n",
              "  <button class=\"colab-df-quickchart\" onclick=\"quickchart('df-f0633b13-e1c0-47a1-a86d-ee0225ca5f44')\"\n",
              "            title=\"Suggest charts\"\n",
              "            style=\"display:none;\">\n",
              "\n",
              "<svg xmlns=\"http://www.w3.org/2000/svg\" height=\"24px\"viewBox=\"0 0 24 24\"\n",
              "     width=\"24px\">\n",
              "    <g>\n",
              "        <path d=\"M19 3H5c-1.1 0-2 .9-2 2v14c0 1.1.9 2 2 2h14c1.1 0 2-.9 2-2V5c0-1.1-.9-2-2-2zM9 17H7v-7h2v7zm4 0h-2V7h2v10zm4 0h-2v-4h2v4z\"/>\n",
              "    </g>\n",
              "</svg>\n",
              "  </button>\n",
              "\n",
              "<style>\n",
              "  .colab-df-quickchart {\n",
              "      --bg-color: #E8F0FE;\n",
              "      --fill-color: #1967D2;\n",
              "      --hover-bg-color: #E2EBFA;\n",
              "      --hover-fill-color: #174EA6;\n",
              "      --disabled-fill-color: #AAA;\n",
              "      --disabled-bg-color: #DDD;\n",
              "  }\n",
              "\n",
              "  [theme=dark] .colab-df-quickchart {\n",
              "      --bg-color: #3B4455;\n",
              "      --fill-color: #D2E3FC;\n",
              "      --hover-bg-color: #434B5C;\n",
              "      --hover-fill-color: #FFFFFF;\n",
              "      --disabled-bg-color: #3B4455;\n",
              "      --disabled-fill-color: #666;\n",
              "  }\n",
              "\n",
              "  .colab-df-quickchart {\n",
              "    background-color: var(--bg-color);\n",
              "    border: none;\n",
              "    border-radius: 50%;\n",
              "    cursor: pointer;\n",
              "    display: none;\n",
              "    fill: var(--fill-color);\n",
              "    height: 32px;\n",
              "    padding: 0;\n",
              "    width: 32px;\n",
              "  }\n",
              "\n",
              "  .colab-df-quickchart:hover {\n",
              "    background-color: var(--hover-bg-color);\n",
              "    box-shadow: 0 1px 2px rgba(60, 64, 67, 0.3), 0 1px 3px 1px rgba(60, 64, 67, 0.15);\n",
              "    fill: var(--button-hover-fill-color);\n",
              "  }\n",
              "\n",
              "  .colab-df-quickchart-complete:disabled,\n",
              "  .colab-df-quickchart-complete:disabled:hover {\n",
              "    background-color: var(--disabled-bg-color);\n",
              "    fill: var(--disabled-fill-color);\n",
              "    box-shadow: none;\n",
              "  }\n",
              "\n",
              "  .colab-df-spinner {\n",
              "    border: 2px solid var(--fill-color);\n",
              "    border-color: transparent;\n",
              "    border-bottom-color: var(--fill-color);\n",
              "    animation:\n",
              "      spin 1s steps(1) infinite;\n",
              "  }\n",
              "\n",
              "  @keyframes spin {\n",
              "    0% {\n",
              "      border-color: transparent;\n",
              "      border-bottom-color: var(--fill-color);\n",
              "      border-left-color: var(--fill-color);\n",
              "    }\n",
              "    20% {\n",
              "      border-color: transparent;\n",
              "      border-left-color: var(--fill-color);\n",
              "      border-top-color: var(--fill-color);\n",
              "    }\n",
              "    30% {\n",
              "      border-color: transparent;\n",
              "      border-left-color: var(--fill-color);\n",
              "      border-top-color: var(--fill-color);\n",
              "      border-right-color: var(--fill-color);\n",
              "    }\n",
              "    40% {\n",
              "      border-color: transparent;\n",
              "      border-right-color: var(--fill-color);\n",
              "      border-top-color: var(--fill-color);\n",
              "    }\n",
              "    60% {\n",
              "      border-color: transparent;\n",
              "      border-right-color: var(--fill-color);\n",
              "    }\n",
              "    80% {\n",
              "      border-color: transparent;\n",
              "      border-right-color: var(--fill-color);\n",
              "      border-bottom-color: var(--fill-color);\n",
              "    }\n",
              "    90% {\n",
              "      border-color: transparent;\n",
              "      border-bottom-color: var(--fill-color);\n",
              "    }\n",
              "  }\n",
              "</style>\n",
              "\n",
              "  <script>\n",
              "    async function quickchart(key) {\n",
              "      const quickchartButtonEl =\n",
              "        document.querySelector('#' + key + ' button');\n",
              "      quickchartButtonEl.disabled = true;  // To prevent multiple clicks.\n",
              "      quickchartButtonEl.classList.add('colab-df-spinner');\n",
              "      try {\n",
              "        const charts = await google.colab.kernel.invokeFunction(\n",
              "            'suggestCharts', [key], {});\n",
              "      } catch (error) {\n",
              "        console.error('Error during call to suggestCharts:', error);\n",
              "      }\n",
              "      quickchartButtonEl.classList.remove('colab-df-spinner');\n",
              "      quickchartButtonEl.classList.add('colab-df-quickchart-complete');\n",
              "    }\n",
              "    (() => {\n",
              "      let quickchartButtonEl =\n",
              "        document.querySelector('#df-f0633b13-e1c0-47a1-a86d-ee0225ca5f44 button');\n",
              "      quickchartButtonEl.style.display =\n",
              "        google.colab.kernel.accessAllowed ? 'block' : 'none';\n",
              "    })();\n",
              "  </script>\n",
              "</div>\n",
              "\n",
              "    </div>\n",
              "  </div>\n"
            ],
            "application/vnd.google.colaboratory.intrinsic+json": {
              "type": "dataframe",
              "variable_name": "news_dataset",
              "summary": "{\n  \"name\": \"news_dataset\",\n  \"rows\": 6875,\n  \"fields\": [\n    {\n      \"column\": \"id\",\n      \"properties\": {\n        \"dtype\": \"number\",\n        \"std\": 1984,\n        \"min\": 0,\n        \"max\": 6874,\n        \"num_unique_values\": 6875,\n        \"samples\": [\n          676,\n          6112,\n          3615\n        ],\n        \"semantic_type\": \"\",\n        \"description\": \"\"\n      }\n    },\n    {\n      \"column\": \"title\",\n      \"properties\": {\n        \"dtype\": \"string\",\n        \"num_unique_values\": 6625,\n        \"samples\": [\n          \"Poll: Most Voters Have Not Heard of Democratic 2020 Election Candidates - Breitbart\",\n          \"Farm owner arrested for protesting Dakota Access Pipeline's theft of her land\",\n          \"Comment on Philippines Voids Building Permit Of Trump Tower In Makati City by Shirley Barnett\"\n        ],\n        \"semantic_type\": \"\",\n        \"description\": \"\"\n      }\n    },\n    {\n      \"column\": \"author\",\n      \"properties\": {\n        \"dtype\": \"category\",\n        \"num_unique_values\": 2099,\n        \"samples\": [\n          \"John Schwartz\",\n          \"Eric Lipton, Matthew Rosenberg and Nicholas Fandos\",\n          \"Steve Sailer\"\n        ],\n        \"semantic_type\": \"\",\n        \"description\": \"\"\n      }\n    },\n    {\n      \"column\": \"text\",\n      \"properties\": {\n        \"dtype\": \"string\",\n        \"num_unique_values\": 6784,\n        \"samples\": [\n          \"Starstruck and Party-Fanatic: The Moral Paradox of Trump Support Posted on Oct 28, 2016 \\nBy Juan Cole / Informed Comment \\nDonald J. Trump\\u2019s poll numbers in California have cratered down to 28% . If he actually does that poorly in the election, he will set a record for poor performance of a presidential candidate in California. Ever. \\nWhat is difficult to explain is why he isn\\u2019t doing that poorly everywhere. Let\\u2019s just review what Trump says he stands for: \\n* Manhandling of women without their consent * Torture * Suggested that crime in Baltimore spiked because we have an African-American president * Jail time for women who have an abortion. * Reducing taxes paid by billionaires. * Stigmatizing Latinos as rapists and felons * Revival of the Ku Klux Klan without the sheets * Carpet-bombing civilian cities to get at ISIL * Unconstitutional treatment of US citizens of Muslim faith * Passage of political libel laws as a means to censor the press \\nMost Americans are opposed to these planks of the Trump platform. So why is he still winning any states in the polls? \\nI think there are two things going on here that give Trump a floor in many states that he does not have in California. Those two things are his celebrity status and blind party loyalty. \\nAdvertisement Square, Site wide \\nTrump is a celebrity of a sort we have never had run for president. Ronald Reagan, a B actor in his youth, was not in the same category. When Reagan ran for president in 1980 his acting days were long behind him and few people in the electorate cared about his old black and white films. Trump, in contrast, was on a popular reality show for 11 seasons and until just before he announced his run. Early in its run, the Apprentice got as many as 20 million viewers. It is true that the audience rapidly dropped thereafter, but nevertheless Trump was before millions of people a week. \\nMost politicians have to spend time introducing themselves to the public. Most everybody knew who Trump was. I have a strong suspicion that this name recognition has inflated Trump\\u2019s poll numbers in the generals. That is, there are a lot of Americans who don\\u2019t follow politics. 42% of them don\\u2019t bother to vote in a typical presidential election. Many of the rest aren\\u2019t paying much attention until September and October just before Election Day. So in most years when pollsters call in August and ask people who they are voting for and name the two candidates, I think they probably get a lot of suspicious answers because some proportion of their sample has never heard of that person or can\\u2019t describe what the candidate stands for. \\nNot so in the case of Donald Trump. (Hillary Clinton, of course, also probably has high name recognition, but she hasn\\u2019t been in people\\u2019s living rooms the way Trump has. And no, I don\\u2019t mean it that way.) \\nMoreover, Americans are often forgiving of their celebrities\\u2019 foibles. Celebrities are there to entertain us or offer us power fantasies, not to behave themselves. Los Angeles prosecutors notoriously have an uphill battle in getting jurors to convict even obviously guilty celebrities. Whereas Americans at least always used to be puritanical in their expectations of politicians, they are tolerant of moral lapses in the Hollywood set. Trump confuses many of them because he is both a celebrity and a politician, but many are more willing to be lenient with him than they likely would be with some lawyer they\\u2019d never heard of who was running for office. \\nThe other distorting variable here is party loyalty. Perhaps the rise of social media has cemented party polarization in the US. There were people in the old days who voted Clinton and then voted Bush (white Protestant women did so in droves). But party loyalty seems to have solidified with the rise of social media. Maybe it is embarrassing to switch sides in public when you\\u2019ve been involved in Twitter or Facebook slamming matches on behalf of the last party you voted for. \\nA lot of Republicans are clearly clinging to Trump despite the Billy Bush tape and subsequent charges from the women he\\u2019s groped. These include evangelicals and \\u2018blue hairs\\u2019 (the little old white ladies who are reliably Republican and usually morally censorious). Some 82% of self-identified Republican women are still supporting Trump, groping and all. \\nSo why is California different here? Well, in part it just no longer has many Republicans. About half of the some 40 million Californians are registered to vote. About 28.9 % of those registered voters are Republicans. So the party-loyalty distorting factor may still be at work there. But the GOP in California long ago tied itself to the declining white population (now a minority) and so suffered an implosion. National GOP policy and certainly that of Trump is making the same mistake, which is why they can\\u2019t win national presidential elections any more. \\nSecond, Trump has lost many women independents , those famous \\u2018soccer moms\\u2019 who voted for Bill Clinton and then switched to W. \\nSo we should expect Trump everywhere to be getting about the same percentage support as the percentage of registered voters who are Republicans. Hence, he wins in Alabama. And he might even do a little better than that, gaining those independents (especially men) willing to wink at a celebrity\\u2019s hi jinx if only he will get the Federal government off their backs and halt immigration. \\nI usually don\\u2019t hold people\\u2019s votes against them on moral grounds. People make their own judgments in politics and there are good people in both parties. \\nBut I think there is a moral deficit in anyone still willing to vote for Trump, despite all the racism, fascism, sexism, and sexual predation. If our two-party system and our current modes of communication have led us to this place, it is time to rethink them. Otherwise the Republic is in danger. TAGS:\",\n          \"Rebels: Leaving Aleppo 'Completely Out of the Question' by Jason Ditz, November 02, 2016 Share This \\nSome two weeks after initially announcing what was going to be an eight hour ceasefire in Aleppo, Russia has continued to hold their fire, and today announced an extension of the operation through Friday , calling on the rebels to take the opportunity to withdraw from the city. \\nWhile on the one hand this marks an extension of the ceasefire, the Friday deadline may amount to Russia\\u2019s government announcing an upcoming end to the pause. This comes a day after Russian officials warned the rebel offensives around Aleppo were jeopardizing the ceasefire, and a few days after Russian President Vladimir Putin rejected a call from the Defense Ministry to resume strikes. \\nThe rebels fighting in Aleppo have rejected Russia\\u2019s call to withdraw from the city by Friday evening as \\u201c completely out of the question ,\\u201d insisting they intend to remain in the city to prevent allowing it to fall into the hands of the Russian military. \\nOf course, Russia\\u2019s involvement has only been airstrikes in Aleppo, with the fighting on the ground all between the Nusra Front-led rebels and the Syrian military. The military has been seen to have a major advantage recently, though a rebel offensive over the weekend may have turned the tables, and is likely to reason why there is growing pressure from Russia\\u2019s Defense Ministry to resume the airstrikes. \\nRussia has promised two corridors through which rebels can leave the city, and said they will allow them to take their weapons with them. The offer is similar to deals wherein rebel factions withdrew from small suburbs around Damascus, but of course on a much grander scale. That the rebels have already rejected it, however, suggests they believe they are not defeated yet. Last 5 posts by Jason Ditz\",\n          \"WASHINGTON  \\u2014   The C. I. A. told senior lawmakers in classified briefings last summer that it had information indicating that Russia was working to help elect Donald J. Trump president, a finding that did not emerge publicly until after Mr. Trump\\u2019s victory months later, former government officials say. The briefings indicate that intelligence officials had evidence of Russia\\u2019s intentions to help Mr. Trump much earlier in the presidential campaign than previously thought. The briefings also reveal a critical split last summer between the C. I. A. and counterparts at the F. B. I. where a number of senior officials continued to believe through last fall that Russia\\u2019s cyberattacks were aimed primarily at disrupting America\\u2019s political system, and not at getting Mr. Trump elected, according to interviews. The former officials said that in late August  \\u2014   10 weeks before the election  \\u2014   John O. Brennan, then the C. I. A. director, was so concerned about increasing evidence of Russia\\u2019s election meddling that he began a series of urgent, individual briefings for eight top members of Congress, some of them on secure phone lines while they were on their summer break. It is unclear what new intelligence might have prompted the classified briefings. But with concerns growing both internally and publicly at the time about a significant Russian breach of the Democratic National Committee, the C. I. A. began seeing signs of possible connections to the Trump campaign, the officials said. By the campaign\\u2019s final weeks, Congress and the intelligence agencies were racing to understand the scope of the Russia threat. In an Aug. 25 briefing for Harry Reid, then the top Democrat in the Senate, Mr. Brennan indicated that Russia\\u2019s hackings appeared aimed at helping Mr. Trump win the November election, according to two former officials with knowledge of the briefing. The officials said Mr. Brennan also indicated that unnamed advisers to Mr. Trump might be working with the Russians to interfere in the election. The F. B. I. and two congressional committees are now investigating that claim, focusing on possible communications and financial dealings between Russian affiliates and a handful of former advisers to Mr. Trump. So far, no proof of collusion has emerged publicly. Mr. Trump has rejected any suggestion of a Russian connection as \\u201cridiculous\\u201d and \\u201cfake news. \\u201d The White House has also sought to redirect the focus from the investigation and toward what Mr. Trump has said, with no evidence, was President Barack Obama\\u2019s wiretapping of phones in Trump Tower during the presidential campaign. The C. I. A. and the F. B. I. declined to comment for this article, as did Mr. Brennan and senior lawmakers who were part of the summer briefings. In the August briefing for Mr. Reid, the two former officials said, Mr. Brennan indicated that the C. I. A. focused on foreign intelligence, was limited in its legal ability to investigate possible connections to Mr. Trump. The officials said Mr. Brennan told Mr. Reid that the F. B. I. in charge of domestic intelligence, would have to lead the way. Days later, Mr. Reid wrote to James B. Comey, director of the F. B. I. Without mentioning the C. I. A. briefing, Mr. Reid told Mr. Comey that he had \\u201crecently become concerned\\u201d that Russia\\u2019s interference was \\u201cmore extensive than widely known. \\u201d In his letter, the senator cited what he called mounting evidence \\u201cof a direct connection between the Russian government and Donald Trump\\u2019s presidential campaign\\u201d and said it was crucial for the F. B. I. to \\u201cuse every resource available\\u201d to investigate. Unknown to Mr. Reid, the F. B. I. had already opened a counterintelligence inquiry a month before, in late July, to examine possible links between Russia and people tied to the Trump campaign. But its existence was kept secret even from members of Congress. Well into the fall, law enforcement officials said that the F. B. I.  \\u2014   including the bureau\\u2019s intelligence analysts  \\u2014   had not found any conclusive or direct link between Mr. Trump and the Russian government, as The New York Times reported on Oct. 31. But as the election approached and new batches of hacked Democratic emails poured out, some F. B. I. officials began to change their view about Russia\\u2019s intentions and eventually came to believe, as the C. I. A. had months earlier, that Moscow was trying to help get Mr. Trump elected, officials said. It was not until early December, a month after the election, that it became publicly known in news reports that the C. I. A. had concluded that Moscow\\u2019s motivation was to get Mr. Trump elected. In January, intelligence officials publicly released a declassified version of their findings, concluding that President Vladimir V. Putin of Russia had \\u201caspired to help\\u201d Mr. Trump to win the election and harm Hillary Clinton, a longtime adversary. By then, both the F. B. I. and the C. I. A. said they had \\u201chigh confidence\\u201d that Russia was trying to help Mr. Trump by hacking into the internal emails of the Democratic National Committee and of some Clinton aides. (The National Security Agency expressed only \\u201cmoderate confidence\\u201d that the Russians were trying to help him.) Last month, Mr. Comey publicly acknowledged the continuing investigation for the first time at a House hearing on Russia\\u2019s influence on the election and said the F. B. I. was examining possible links between Trump associates and Russia for evidence of collusion. One factor in the C. I. A. analysis last summer was that American intelligence agencies learned that Russia\\u2019s cyberattacks had breached Republican targets as well as Democrats. But virtually none of the hacked Republican material came out publicly, while the Russians, working through WikiLeaks and other public outlets, dumped substantial amounts of Democratic material damaging to Mrs. Clinton\\u2019s campaign. Some intelligence officials were wary of pushing too aggressively before the election with questions about possible links between Russia and the Trump campaign because of concerns it might be seen as an improper political attempt to help Mrs. Clinton. But after her loss, a number of Mrs. Clinton\\u2019s supporters have said that Mr. Comey and other government officials should have revealed more to the public during the campaign season about what they knew of Russia\\u2019s motivations and possible connections to the Trump campaign. The classified briefings that the C. I. A. held in August and September for the   Gang of Eight  \\u2014   the Republican and Democratic leaders of the House and the Senate and of the intelligence committees in each chamber  \\u2014   show deep concerns about the impact of the election meddling. In the briefings, the C. I. A. said there was intelligence indicating not only that the Russians were trying to get Mr. Trump elected but that they had gained computer access to multiple state and local election boards in the United States since 2014, officials said. Although the breached systems were not involved in actual   operations, Obama administration officials proposed that the eight senior lawmakers write a letter to state election officials warning them of the possible threat posed by Russian hacking, officials said. But Senator Mitch McConnell of Kentucky, the Republican majority leader, resisted, questioning the underpinnings of the intelligence, according to officials with knowledge of the discussions. Mr. McConnell ultimately agreed to a softer version of the letter, which did not mention the Russians but warned of unnamed \\u201cmalefactors\\u201d who might seek to disrupt the elections through online intrusion. The letter, dated Sept. 28, was signed by Mr. McConnell, Mr. Reid, Speaker Paul D. Ryan and Representative Nancy Pelosi, the ranking Democrat. On Sept. 22, two other members of the Gang of Eight  \\u2014   Senator Dianne Feinstein and Representative Adam B. Schiff, both of California and the ranking Democrats on the Senate and House intelligence committees  \\u2014   released their own statement about the Russian interference that did not mention Mr. Trump or his campaign by name. But they did say that \\u201cbased on briefings we have received, we have concluded that the Russian intelligence agencies are making a serious and concerted effort to influence the U. S. election. \\u201d \\u201cAt the least, this effort is intended to sow doubt about the security of our election and may well be intended to influence the outcomes of the election,\\u201d they added. The F. B. I. the N. S. A. and the Office of the Director of National Intelligence also held a classified briefing on Sept. 6 for congressional staff members about the wave of Russian hacks and \\u201cthe current and ongoing threat facing U. S. political organizations during this national political season,\\u201d according to a government official. These new details show Congress and the intelligence agencies racing in the campaign\\u2019s final weeks to understand the scope of the Russian threat. But Democrats and Republicans who were privy to the classified briefings often saw the intelligence through a political prism, sparring over whether it could be construed as showing that the Russians were helping Mr. Trump. The briefings left Mr. Reid frustrated with the F. B. I. \\u2019s handling of Russia\\u2019s election intrusion, especially after the agency said in late October  \\u2014   11 days before the election  \\u2014   that it was   Mrs. Clinton\\u2019s emails. Mr. Reid fired off another letter on Oct. 30, accusing Mr. Comey of a \\u201cdouble standard\\u201d in reviving the Clinton investigation while sitting on \\u201cexplosive information\\u201d about possible ties between Russia and Mr. Trump. \\u201cThe public,\\u201d Mr. Reid wrote, \\u201chas a right to know this information. \\u201d\"\n        ],\n        \"semantic_type\": \"\",\n        \"description\": \"\"\n      }\n    },\n    {\n      \"column\": \"label\",\n      \"properties\": {\n        \"dtype\": \"number\",\n        \"std\": 0,\n        \"min\": 0,\n        \"max\": 1,\n        \"num_unique_values\": 2,\n        \"samples\": [\n          0,\n          1\n        ],\n        \"semantic_type\": \"\",\n        \"description\": \"\"\n      }\n    }\n  ]\n}"
            }
          },
          "metadata": {},
          "execution_count": 116
        }
      ]
    },
    {
      "cell_type": "code",
      "source": [
        "# to count the number values in each column\n",
        "news_dataset.isnull().sum()\n"
      ],
      "metadata": {
        "colab": {
          "base_uri": "https://localhost:8080/"
        },
        "id": "FF4vM4rmOTsK",
        "outputId": "280d3956-8ca2-4ef9-9e28-ebaf94e52369"
      },
      "execution_count": null,
      "outputs": [
        {
          "output_type": "execute_result",
          "data": {
            "text/plain": [
              "id          0\n",
              "title     193\n",
              "author    659\n",
              "text       14\n",
              "label       0\n",
              "dtype: int64"
            ]
          },
          "metadata": {},
          "execution_count": 117
        }
      ]
    },
    {
      "cell_type": "code",
      "source": [
        "# replacing null values with empty string\n",
        "news_dataset = news_dataset.fillna('')"
      ],
      "metadata": {
        "id": "VcYTi_tFfbzp"
      },
      "execution_count": null,
      "outputs": []
    },
    {
      "cell_type": "code",
      "source": [
        "# to create a new column by merging two existing columns\n",
        "news_dataset['contents'] = news_dataset['author'] + ' ' + news_dataset['title']"
      ],
      "metadata": {
        "id": "5kXfDBwqhjMj"
      },
      "execution_count": null,
      "outputs": []
    },
    {
      "cell_type": "code",
      "source": [
        "# to display the newly created column\n",
        "print(news_dataset['contents'])"
      ],
      "metadata": {
        "colab": {
          "base_uri": "https://localhost:8080/"
        },
        "id": "yzh8FCdUhuvb",
        "outputId": "1adbd709-49e0-4967-f3e0-ae50585f1cee"
      },
      "execution_count": null,
      "outputs": [
        {
          "output_type": "stream",
          "name": "stdout",
          "text": [
            "0       Darrell Lucus House Dem Aide: We Didn’t Even S...\n",
            "1       Daniel J. Flynn FLYNN: Hillary Clinton, Big Wo...\n",
            "2       Consortiumnews.com Why the Truth Might Get You...\n",
            "3       Jessica Purkiss 15 Civilians Killed In Single ...\n",
            "4       Howard Portnoy Iranian woman jailed for fictio...\n",
            "                              ...                        \n",
            "6870    Cara Buckley Andrew Garfield, Spiritual Ghost ...\n",
            "6871    Jameson Parker Harry Reid Vindicated: The FBI ...\n",
            "6872    Jack Hadfield Over 12,000 Tweets Call For Trum...\n",
            "6873    Ray McGovern Putin and Obama: the Trust Evapor...\n",
            "6874    Mike McPhate California Today: On the Ground i...\n",
            "Name: contents, Length: 6875, dtype: object\n"
          ]
        }
      ]
    },
    {
      "cell_type": "code",
      "source": [
        "# separating the data and label\n",
        "X = news_dataset.drop(columns='label', axis=1)\n",
        "Y = news_dataset['label']"
      ],
      "metadata": {
        "id": "AAvtIbBrjZEM"
      },
      "execution_count": null,
      "outputs": []
    },
    {
      "cell_type": "code",
      "source": [
        "print(X)\n",
        "print(Y)"
      ],
      "metadata": {
        "colab": {
          "base_uri": "https://localhost:8080/"
        },
        "id": "N4PZDRE8jgHY",
        "outputId": "31ab1718-993f-4042-d399-f902d98ed149"
      },
      "execution_count": null,
      "outputs": [
        {
          "output_type": "stream",
          "name": "stdout",
          "text": [
            "        id                                              title  \\\n",
            "0        0  House Dem Aide: We Didn’t Even See Comey’s Let...   \n",
            "1        1  FLYNN: Hillary Clinton, Big Woman on Campus - ...   \n",
            "2        2                  Why the Truth Might Get You Fired   \n",
            "3        3  15 Civilians Killed In Single US Airstrike Hav...   \n",
            "4        4  Iranian woman jailed for fictional unpublished...   \n",
            "...    ...                                                ...   \n",
            "6870  6870  Andrew Garfield, Spiritual Ghost in the Hollyw...   \n",
            "6871  6871  Harry Reid Vindicated: The FBI Is Sitting On I...   \n",
            "6872  6872  Over 12,000 Tweets Call For Trump’s Assassinat...   \n",
            "6873  6873              Putin and Obama: the Trust Evaporates   \n",
            "6874  6874  California Today: On the Ground in Oroville - ...   \n",
            "\n",
            "                  author                                               text  \\\n",
            "0          Darrell Lucus  House Dem Aide: We Didn’t Even See Comey’s Let...   \n",
            "1        Daniel J. Flynn  Ever get the feeling your life circles the rou...   \n",
            "2     Consortiumnews.com  Why the Truth Might Get You Fired October 29, ...   \n",
            "3        Jessica Purkiss  Videos 15 Civilians Killed In Single US Airstr...   \n",
            "4         Howard Portnoy  Print \\nAn Iranian woman has been sentenced to...   \n",
            "...                  ...                                                ...   \n",
            "6870        Cara Buckley  LOS ANGELES  —   To understand how Andrew Garf...   \n",
            "6871      Jameson Parker  Harry Reid Vindicated: The FBI Is Sitting On I...   \n",
            "6872       Jack Hadfield  According to research search from the social m...   \n",
            "6873        Ray McGovern  How did the “growing trust” that Russian Presi...   \n",
            "6874        Mike McPhate  Good morning. (Want to get California Today by...   \n",
            "\n",
            "                                               contents  \n",
            "0     Darrell Lucus House Dem Aide: We Didn’t Even S...  \n",
            "1     Daniel J. Flynn FLYNN: Hillary Clinton, Big Wo...  \n",
            "2     Consortiumnews.com Why the Truth Might Get You...  \n",
            "3     Jessica Purkiss 15 Civilians Killed In Single ...  \n",
            "4     Howard Portnoy Iranian woman jailed for fictio...  \n",
            "...                                                 ...  \n",
            "6870  Cara Buckley Andrew Garfield, Spiritual Ghost ...  \n",
            "6871  Jameson Parker Harry Reid Vindicated: The FBI ...  \n",
            "6872  Jack Hadfield Over 12,000 Tweets Call For Trum...  \n",
            "6873  Ray McGovern Putin and Obama: the Trust Evapor...  \n",
            "6874  Mike McPhate California Today: On the Ground i...  \n",
            "\n",
            "[6875 rows x 5 columns]\n",
            "0       1\n",
            "1       0\n",
            "2       1\n",
            "3       1\n",
            "4       1\n",
            "       ..\n",
            "6870    0\n",
            "6871    1\n",
            "6872    0\n",
            "6873    1\n",
            "6874    0\n",
            "Name: label, Length: 6875, dtype: int64\n"
          ]
        }
      ]
    },
    {
      "cell_type": "markdown",
      "source": [
        "STEMMING\n",
        "It is the process of reducing a word to its root words."
      ],
      "metadata": {
        "id": "OUikWSQRkHc6"
      }
    },
    {
      "cell_type": "code",
      "source": [
        "port_stem = PorterStemmer()"
      ],
      "metadata": {
        "id": "roZFtPaTkOJO"
      },
      "execution_count": null,
      "outputs": []
    },
    {
      "cell_type": "code",
      "source": [
        "def stemming(content):\n",
        "    stemmed_content = re.sub('[^a-zA-Z]',' ',content)\n",
        "    stemmed_content = stemmed_content.lower()\n",
        "    stemmed_content = stemmed_content.split()\n",
        "    stemmed_content = [port_stem.stem(word) for word in stemmed_content if not word in stopwords.words('english')]\n",
        "    stemmed_content = ' '.join(stemmed_content)\n",
        "    return stemmed_content"
      ],
      "metadata": {
        "id": "rZS8LKQ0knfN"
      },
      "execution_count": null,
      "outputs": []
    },
    {
      "cell_type": "code",
      "source": [
        "news_dataset['contents'] = news_dataset['contents'].apply(stemming)"
      ],
      "metadata": {
        "id": "fpNEapb_k1Tm"
      },
      "execution_count": null,
      "outputs": []
    },
    {
      "cell_type": "code",
      "source": [
        "print(news_dataset['contents'])"
      ],
      "metadata": {
        "id": "HfAgWICFm70D",
        "colab": {
          "base_uri": "https://localhost:8080/"
        },
        "outputId": "163f3e2a-1b3c-4e6c-ff1e-f36fd9833b05"
      },
      "execution_count": null,
      "outputs": [
        {
          "output_type": "stream",
          "name": "stdout",
          "text": [
            "0       darrel lucu hous dem aid even see comey letter...\n",
            "1       daniel j flynn flynn hillari clinton big woman...\n",
            "2                  consortiumnew com truth might get fire\n",
            "3       jessica purkiss civilian kill singl us airstri...\n",
            "4       howard portnoy iranian woman jail fiction unpu...\n",
            "                              ...                        \n",
            "6870    cara buckley andrew garfield spiritu ghost hol...\n",
            "6871    jameson parker harri reid vindic fbi sit info ...\n",
            "6872    jack hadfield tweet call trump assassin breitbart\n",
            "6873                ray mcgovern putin obama trust evapor\n",
            "6874    mike mcphate california today ground orovil ne...\n",
            "Name: contents, Length: 6875, dtype: object\n"
          ]
        }
      ]
    },
    {
      "cell_type": "code",
      "source": [
        "news_dataset.loc[:, 'label'] = pd.to_numeric(news_dataset['label'], errors='coerce').fillna(0).astype(int)"
      ],
      "metadata": {
        "id": "3Qu_jRS1DEZq"
      },
      "execution_count": null,
      "outputs": []
    },
    {
      "cell_type": "code",
      "source": [
        "# separating the data and label\n",
        "X = news_dataset['contents'].values;\n",
        "Y = news_dataset['label'].values;"
      ],
      "metadata": {
        "id": "HnPyKNK7sYht"
      },
      "execution_count": null,
      "outputs": []
    },
    {
      "cell_type": "code",
      "source": [
        "# displaying the content data\n",
        "print(X)"
      ],
      "metadata": {
        "colab": {
          "base_uri": "https://localhost:8080/"
        },
        "id": "0GVxl88Gslxr",
        "outputId": "7ccf28b1-0e0d-47c3-f21c-26d40eb6fd96"
      },
      "execution_count": null,
      "outputs": [
        {
          "output_type": "stream",
          "name": "stdout",
          "text": [
            "['darrel lucu hous dem aid even see comey letter jason chaffetz tweet'\n",
            " 'daniel j flynn flynn hillari clinton big woman campu breitbart'\n",
            " 'consortiumnew com truth might get fire' ...\n",
            " 'jack hadfield tweet call trump assassin breitbart'\n",
            " 'ray mcgovern putin obama trust evapor'\n",
            " 'mike mcphate california today ground orovil new york time']\n"
          ]
        }
      ]
    },
    {
      "cell_type": "code",
      "source": [
        "# displaying the label data\n",
        "print(Y)"
      ],
      "metadata": {
        "colab": {
          "base_uri": "https://localhost:8080/"
        },
        "id": "H9OEAFwIsn0P",
        "outputId": "5470c8c7-6fbe-45aa-db26-abe250a561d7"
      },
      "execution_count": null,
      "outputs": [
        {
          "output_type": "stream",
          "name": "stdout",
          "text": [
            "[1 0 1 ... 0 1 0]\n"
          ]
        }
      ]
    },
    {
      "cell_type": "code",
      "source": [
        "Y.shape\n"
      ],
      "metadata": {
        "colab": {
          "base_uri": "https://localhost:8080/"
        },
        "id": "pNhQXYwnstg5",
        "outputId": "0e1b9969-a91c-4207-8c95-2b072998303c"
      },
      "execution_count": null,
      "outputs": [
        {
          "output_type": "execute_result",
          "data": {
            "text/plain": [
              "(6875,)"
            ]
          },
          "metadata": {},
          "execution_count": 131
        }
      ]
    },
    {
      "cell_type": "code",
      "source": [
        "# converting the textual data to numerical data\n",
        "vectorizer = TfidfVectorizer()\n",
        "X = vectorizer.fit_transform(X)"
      ],
      "metadata": {
        "id": "amzF184ktHs5"
      },
      "execution_count": null,
      "outputs": []
    },
    {
      "cell_type": "code",
      "source": [
        "print(X)"
      ],
      "metadata": {
        "colab": {
          "base_uri": "https://localhost:8080/"
        },
        "id": "SUGHS_S_ym_x",
        "outputId": "e8f7b9ea-6200-4575-a410-eb625b1976a1"
      },
      "execution_count": null,
      "outputs": [
        {
          "output_type": "stream",
          "name": "stdout",
          "text": [
            "  (0, 9577)\t0.28300493715220104\n",
            "  (0, 1550)\t0.3956317020896285\n",
            "  (0, 4723)\t0.25143648120340895\n",
            "  (0, 5289)\t0.2982110554312007\n",
            "  (0, 1844)\t0.24773566132517855\n",
            "  (0, 8211)\t0.2572148146148013\n",
            "  (0, 3063)\t0.23546444521988447\n",
            "  (0, 186)\t0.2743212698775191\n",
            "  (0, 2358)\t0.26709230161809977\n",
            "  (0, 4312)\t0.22029791817933728\n",
            "  (0, 5460)\t0.341420613781976\n",
            "  (0, 2239)\t0.341420613781976\n",
            "  (1, 1190)\t0.15202385374005237\n",
            "  (1, 1395)\t0.37943881270227026\n",
            "  (1, 10202)\t0.28952333639839944\n",
            "  (1, 946)\t0.2852011264648358\n",
            "  (1, 1749)\t0.18937471191077962\n",
            "  (1, 4205)\t0.18889592190940427\n",
            "  (1, 3410)\t0.7223448465320816\n",
            "  (1, 2219)\t0.2728093882480799\n",
            "  (2, 3338)\t0.3836416516236548\n",
            "  (2, 3692)\t0.3405998803785845\n",
            "  (2, 5888)\t0.49676783555995124\n",
            "  (2, 9532)\t0.420672763561579\n",
            "  (2, 1832)\t0.32005063996301913\n",
            "  :\t:\n",
            "  (6871, 7960)\t0.217974150331673\n",
            "  (6871, 2629)\t0.1693633053604963\n",
            "  (6871, 9523)\t0.11311799791822298\n",
            "  (6872, 3973)\t0.5186338380883961\n",
            "  (6872, 540)\t0.4595565835389122\n",
            "  (6872, 1372)\t0.3305124501269484\n",
            "  (6872, 4693)\t0.40311130078353136\n",
            "  (6872, 9523)\t0.17708199074231262\n",
            "  (6872, 1190)\t0.1973190122110648\n",
            "  (6872, 9577)\t0.4216594170443985\n",
            "  (6873, 3061)\t0.4988077790541699\n",
            "  (6873, 5750)\t0.4988077790541699\n",
            "  (6873, 7490)\t0.4388692881024784\n",
            "  (6873, 9530)\t0.39668531146409\n",
            "  (6873, 7341)\t0.3025443013871842\n",
            "  (6873, 6454)\t0.24674492180649896\n",
            "  (6874, 3902)\t0.42268579741438295\n",
            "  (6874, 6586)\t0.48138190980431206\n",
            "  (6874, 9353)\t0.37251736674345437\n",
            "  (6874, 5767)\t0.40641237176192846\n",
            "  (6874, 1370)\t0.3621482057557817\n",
            "  (6874, 5892)\t0.3227436536543138\n",
            "  (6874, 9328)\t0.12958263548987892\n",
            "  (6874, 10320)\t0.1316557086666423\n",
            "  (6874, 6290)\t0.1273903260824817\n"
          ]
        }
      ]
    },
    {
      "cell_type": "markdown",
      "source": [
        "Splitting the dataset to training and testing data"
      ],
      "metadata": {
        "id": "3j2yvUq-zT8y"
      }
    },
    {
      "cell_type": "code",
      "source": [
        "X_train, X_test, Y_train, Y_test = train_test_split(X, Y, test_size = 0.2, random_state=2)"
      ],
      "metadata": {
        "id": "Uly1vuCB_oAs"
      },
      "execution_count": null,
      "outputs": []
    },
    {
      "cell_type": "markdown",
      "source": [
        "Training the Model using Logistic Regression method"
      ],
      "metadata": {
        "id": "h3qgWj75_sFN"
      }
    },
    {
      "cell_type": "code",
      "source": [
        "model = LogisticRegression()"
      ],
      "metadata": {
        "id": "LwaU9kXO_yIG"
      },
      "execution_count": null,
      "outputs": []
    },
    {
      "cell_type": "code",
      "source": [
        "model.fit(X_train, Y_train)"
      ],
      "metadata": {
        "colab": {
          "base_uri": "https://localhost:8080/",
          "height": 75
        },
        "id": "A1e1Itvb_z6c",
        "outputId": "dbb1a9e7-36ec-4c31-b824-2d75f61b5d44"
      },
      "execution_count": null,
      "outputs": [
        {
          "output_type": "execute_result",
          "data": {
            "text/plain": [
              "LogisticRegression()"
            ],
            "text/html": [
              "<style>#sk-container-id-2 {color: black;background-color: white;}#sk-container-id-2 pre{padding: 0;}#sk-container-id-2 div.sk-toggleable {background-color: white;}#sk-container-id-2 label.sk-toggleable__label {cursor: pointer;display: block;width: 100%;margin-bottom: 0;padding: 0.3em;box-sizing: border-box;text-align: center;}#sk-container-id-2 label.sk-toggleable__label-arrow:before {content: \"▸\";float: left;margin-right: 0.25em;color: #696969;}#sk-container-id-2 label.sk-toggleable__label-arrow:hover:before {color: black;}#sk-container-id-2 div.sk-estimator:hover label.sk-toggleable__label-arrow:before {color: black;}#sk-container-id-2 div.sk-toggleable__content {max-height: 0;max-width: 0;overflow: hidden;text-align: left;background-color: #f0f8ff;}#sk-container-id-2 div.sk-toggleable__content pre {margin: 0.2em;color: black;border-radius: 0.25em;background-color: #f0f8ff;}#sk-container-id-2 input.sk-toggleable__control:checked~div.sk-toggleable__content {max-height: 200px;max-width: 100%;overflow: auto;}#sk-container-id-2 input.sk-toggleable__control:checked~label.sk-toggleable__label-arrow:before {content: \"▾\";}#sk-container-id-2 div.sk-estimator input.sk-toggleable__control:checked~label.sk-toggleable__label {background-color: #d4ebff;}#sk-container-id-2 div.sk-label input.sk-toggleable__control:checked~label.sk-toggleable__label {background-color: #d4ebff;}#sk-container-id-2 input.sk-hidden--visually {border: 0;clip: rect(1px 1px 1px 1px);clip: rect(1px, 1px, 1px, 1px);height: 1px;margin: -1px;overflow: hidden;padding: 0;position: absolute;width: 1px;}#sk-container-id-2 div.sk-estimator {font-family: monospace;background-color: #f0f8ff;border: 1px dotted black;border-radius: 0.25em;box-sizing: border-box;margin-bottom: 0.5em;}#sk-container-id-2 div.sk-estimator:hover {background-color: #d4ebff;}#sk-container-id-2 div.sk-parallel-item::after {content: \"\";width: 100%;border-bottom: 1px solid gray;flex-grow: 1;}#sk-container-id-2 div.sk-label:hover label.sk-toggleable__label {background-color: #d4ebff;}#sk-container-id-2 div.sk-serial::before {content: \"\";position: absolute;border-left: 1px solid gray;box-sizing: border-box;top: 0;bottom: 0;left: 50%;z-index: 0;}#sk-container-id-2 div.sk-serial {display: flex;flex-direction: column;align-items: center;background-color: white;padding-right: 0.2em;padding-left: 0.2em;position: relative;}#sk-container-id-2 div.sk-item {position: relative;z-index: 1;}#sk-container-id-2 div.sk-parallel {display: flex;align-items: stretch;justify-content: center;background-color: white;position: relative;}#sk-container-id-2 div.sk-item::before, #sk-container-id-2 div.sk-parallel-item::before {content: \"\";position: absolute;border-left: 1px solid gray;box-sizing: border-box;top: 0;bottom: 0;left: 50%;z-index: -1;}#sk-container-id-2 div.sk-parallel-item {display: flex;flex-direction: column;z-index: 1;position: relative;background-color: white;}#sk-container-id-2 div.sk-parallel-item:first-child::after {align-self: flex-end;width: 50%;}#sk-container-id-2 div.sk-parallel-item:last-child::after {align-self: flex-start;width: 50%;}#sk-container-id-2 div.sk-parallel-item:only-child::after {width: 0;}#sk-container-id-2 div.sk-dashed-wrapped {border: 1px dashed gray;margin: 0 0.4em 0.5em 0.4em;box-sizing: border-box;padding-bottom: 0.4em;background-color: white;}#sk-container-id-2 div.sk-label label {font-family: monospace;font-weight: bold;display: inline-block;line-height: 1.2em;}#sk-container-id-2 div.sk-label-container {text-align: center;}#sk-container-id-2 div.sk-container {/* jupyter's `normalize.less` sets `[hidden] { display: none; }` but bootstrap.min.css set `[hidden] { display: none !important; }` so we also need the `!important` here to be able to override the default hidden behavior on the sphinx rendered scikit-learn.org. See: https://github.com/scikit-learn/scikit-learn/issues/21755 */display: inline-block !important;position: relative;}#sk-container-id-2 div.sk-text-repr-fallback {display: none;}</style><div id=\"sk-container-id-2\" class=\"sk-top-container\"><div class=\"sk-text-repr-fallback\"><pre>LogisticRegression()</pre><b>In a Jupyter environment, please rerun this cell to show the HTML representation or trust the notebook. <br />On GitHub, the HTML representation is unable to render, please try loading this page with nbviewer.org.</b></div><div class=\"sk-container\" hidden><div class=\"sk-item\"><div class=\"sk-estimator sk-toggleable\"><input class=\"sk-toggleable__control sk-hidden--visually\" id=\"sk-estimator-id-2\" type=\"checkbox\" checked><label for=\"sk-estimator-id-2\" class=\"sk-toggleable__label sk-toggleable__label-arrow\">LogisticRegression</label><div class=\"sk-toggleable__content\"><pre>LogisticRegression()</pre></div></div></div></div></div>"
            ]
          },
          "metadata": {},
          "execution_count": 136
        }
      ]
    },
    {
      "cell_type": "markdown",
      "source": [
        "Evaluating the Model"
      ],
      "metadata": {
        "id": "qTuffmoS_2in"
      }
    },
    {
      "cell_type": "code",
      "source": [
        "# accuracy score of the training data\n",
        "X_train_prediction = model.predict(X_train)\n",
        "training_data_accuracy = accuracy_score(X_train_prediction, Y_train)"
      ],
      "metadata": {
        "id": "jyUJVp2n_6yJ"
      },
      "execution_count": null,
      "outputs": []
    },
    {
      "cell_type": "code",
      "source": [
        "print('Accuracy score of the training data : ', training_data_accuracy)"
      ],
      "metadata": {
        "colab": {
          "base_uri": "https://localhost:8080/"
        },
        "id": "llMt3owD_8rB",
        "outputId": "2e87d70a-c437-4986-f78c-bea62db6b3e3"
      },
      "execution_count": null,
      "outputs": [
        {
          "output_type": "stream",
          "name": "stdout",
          "text": [
            "Accuracy score of the training data :  0.976909090909091\n"
          ]
        }
      ]
    },
    {
      "cell_type": "code",
      "source": [
        "# accuracy score of the test data\n",
        "X_test_prediction = model.predict(X_test)\n",
        "test_data_accuracy = accuracy_score(X_test_prediction, Y_test)"
      ],
      "metadata": {
        "id": "pt_c78-N__aR"
      },
      "execution_count": null,
      "outputs": []
    },
    {
      "cell_type": "code",
      "source": [
        "print('Accuracy score of the testing data : ', test_data_accuracy)"
      ],
      "metadata": {
        "colab": {
          "base_uri": "https://localhost:8080/"
        },
        "id": "4z9JFhFJABam",
        "outputId": "9cc65876-ece5-478c-a4fc-f2068da60617"
      },
      "execution_count": null,
      "outputs": [
        {
          "output_type": "stream",
          "name": "stdout",
          "text": [
            "Accuracy score of the testing data :  0.9549090909090909\n"
          ]
        }
      ]
    },
    {
      "cell_type": "markdown",
      "source": [
        "Making a Predictive System"
      ],
      "metadata": {
        "id": "DRwvTXtSoDnL"
      }
    },
    {
      "cell_type": "code",
      "source": [
        "X_new = X_test[2]\n",
        "\n",
        "prediction = model.predict(X_new)\n",
        "print(prediction)\n",
        "\n",
        "if (prediction[0]==0):\n",
        "  print('The news is Real')\n",
        "else:\n",
        "  print('The news is Fake')"
      ],
      "metadata": {
        "id": "ZAbO0J73AFd-",
        "colab": {
          "base_uri": "https://localhost:8080/"
        },
        "outputId": "34f4a051-e5bf-4dff-d8b3-e35754fcedbf"
      },
      "execution_count": null,
      "outputs": [
        {
          "output_type": "stream",
          "name": "stdout",
          "text": [
            "[0]\n",
            "The news is Real\n"
          ]
        }
      ]
    },
    {
      "cell_type": "code",
      "source": [
        "print(Y_test[2])"
      ],
      "metadata": {
        "colab": {
          "base_uri": "https://localhost:8080/"
        },
        "id": "mn09NNbDmXHI",
        "outputId": "725bc904-4d91-45e8-bf98-ec6d38523ddf"
      },
      "execution_count": null,
      "outputs": [
        {
          "output_type": "stream",
          "name": "stdout",
          "text": [
            "0\n"
          ]
        }
      ]
    }
  ]
}